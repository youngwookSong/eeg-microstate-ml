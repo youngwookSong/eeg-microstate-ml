{
 "cells": [
  {
   "cell_type": "code",
   "execution_count": null,
   "metadata": {},
   "outputs": [],
   "source": [
    "# import 필수\n",
    "import pandas as pd\n",
    "import sklearn.model_selection # stratifiedkfold, leaveoneout\n",
    "import numpy as np\n",
    "import sys\n",
    "# from scipy.stats import zscore\n",
    "\n",
    "import sklearn.svm # SVC / NuSVC / LinearSVC\n",
    "import sklearn.linear_model # RidgeClassifierCV / LogisticRegressionCV / SGDClassifier\n",
    "\n",
    "import sklearn.discriminant_analysis\n",
    "from lightgbm import LGBMClassifier \n",
    "\n",
    "from filter_method_fisher import feature_selector\n",
    "\n",
    "from collections import Counter\n",
    "\n",
    "\n",
    "Randomstate_val = 42"
   ]
  },
  {
   "cell_type": "code",
   "execution_count": null,
   "metadata": {},
   "outputs": [
    {
     "name": "stdout",
     "output_type": "stream",
     "text": [
      "Counter({0: 49, 1: 41})\n",
      "Counter({0: 49, 1: 44})\n",
      "Counter({1: 44, 0: 41})\n"
     ]
    }
   ],
   "source": [
    "Filenames_load = [\n",
    "    'MS_1-40_ALLepoch_ms4_3group_(1).xlsx',\n",
    "    'MS_1-40_ALLepoch_ms4_3group_(2).xlsx',\n",
    "    'MS_1-40_ALLepoch_ms4_3group_(3).xlsx'\n",
    "                    ]\n",
    "Filenames_save = [\n",
    "    'MS_1-40_ALLepoch_ms4_3group_loo_(1).xlsx',\n",
    "    'MS_1-40_ALLepoch_ms4_3group_loo_(2).xlsx',\n",
    "    'MS_1-40_ALLepoch_ms4_3group_loo_(3).xlsx'\n",
    "            ]\n",
    "\n",
    "for filename,savename in zip(Filenames_load, Filenames_save):\n",
    "    Dataset_filename = filename\n",
    "    Dataset= pd.read_excel(Dataset_filename)\n",
    "\n",
    "    numaric_col = Dataset.columns[2:]\n",
    "\n",
    "    X, y = Dataset.iloc[:,2:] , Dataset.iloc[:,1]\n",
    "\n",
    "    cw = \"balanced\" # balanced/None\n",
    "\n",
    "    Model_svc_linear = sklearn.svm.SVC(kernel='linear', class_weight = cw, random_state=Randomstate_val)\n",
    "\n",
    "    Model_ensemble_randomforest_gini = sklearn.ensemble.RandomForestClassifier(class_weight = cw,random_state=Randomstate_val, criterion='gini')\n",
    "\n",
    "    Model_discriminant_QDA = sklearn.discriminant_analysis.QuadraticDiscriminantAnalysis()\n",
    "\n",
    "    cv= sklearn.model_selection.LeaveOneOut()\n",
    "\n",
    "    cvv = cv\n",
    "    fn = 28\n",
    "    method = 'fisher'\n",
    "\n",
    "    svc_linear = DHL_feature_selector()\n",
    "    svc_linear.filter_method( est=Model_svc_linear, X=X, y=y, cv=cvv, meth=method, feat_num=fn, norm=True, ROC_sel=True, importance_sel=False, n_jobs=-1)\n",
    "    \n",
    "    randomforest_gini = DHL_feature_selector()\n",
    "    randomforest_gini.filter_method( est=Model_ensemble_randomforest_gini, X=X, y=y, cv=cvv, meth=method, feat_num=fn, norm=True, ROC_sel=True, importance_sel=False, n_jobs=-1)\n",
    "\n",
    "    discriminant_QDA = DHL_feature_selector()\n",
    "    discriminant_QDA.filter_method( est=Model_discriminant_QDA, X=X, y=y, cv=cvv, meth=method, feat_num=fn, norm=True, ROC_sel=True, importance_sel=False, n_jobs=-1)\n",
    "\n",
    "    with pd.ExcelWriter(savename) as writer:\n",
    "        \n",
    "        svc_linear.filt_score_dp.to_excel(writer, sheet_name='svc_linear_score')\n",
    "        svc_linear.filt_count_dp.to_excel(writer, sheet_name='svc_linear_count')\n",
    "\n",
    "        randomforest_gini.filt_score_dp.to_excel(writer, sheet_name='randomforest_gini_score')\n",
    "        randomforest_gini.filt_count_dp.to_excel(writer, sheet_name='randomforest_gini_count')\n",
    "        \n",
    "        discriminant_QDA.filt_score_dp.to_excel(writer, sheet_name='discriminant_QDA_score')\n",
    "        discriminant_QDA.filt_count_dp.to_excel(writer, sheet_name='discriminant_QDA_count')"
   ]
  }
 ],
 "metadata": {
  "kernelspec": {
   "display_name": "base",
   "language": "python",
   "name": "python3"
  },
  "language_info": {
   "codemirror_mode": {
    "name": "ipython",
    "version": 3
   },
   "file_extension": ".py",
   "mimetype": "text/x-python",
   "name": "python",
   "nbconvert_exporter": "python",
   "pygments_lexer": "ipython3",
   "version": "3.9.12"
  }
 },
 "nbformat": 4,
 "nbformat_minor": 2
}
